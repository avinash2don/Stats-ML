{
 "cells": [
  {
   "cell_type": "markdown",
   "metadata": {},
   "source": [
    "# Importing Necessary Libraries"
   ]
  },
  {
   "cell_type": "markdown",
   "metadata": {},
   "source": [
    "Name:Venkata Avinash"
   ]
  },
  {
   "cell_type": "code",
   "execution_count": 66,
   "metadata": {
    "collapsed": true
   },
   "outputs": [],
   "source": [
    "from sklearn.cross_validation import KFold\n",
    "from sklearn.linear_model import LinearRegression, Lasso, Ridge, ElasticNet, SGDRegressor\n",
    "import numpy as np\n",
    "import pylab as pl"
   ]
  },
  {
   "cell_type": "markdown",
   "metadata": {},
   "source": [
    "# Reading the data"
   ]
  },
  {
   "cell_type": "code",
   "execution_count": 67,
   "metadata": {},
   "outputs": [
    {
     "name": "stdout",
     "output_type": "stream",
     "text": [
      "(1599, 12)\n"
     ]
    }
   ],
   "source": [
    "data=pd.read_csv('winequality-red.csv')\n",
    "#print(data.head())\n",
    "print (data.shape)"
   ]
  },
  {
   "cell_type": "markdown",
   "metadata": {},
   "source": [
    "## Finding the NA values and moving on"
   ]
  },
  {
   "cell_type": "code",
   "execution_count": 68,
   "metadata": {},
   "outputs": [
    {
     "name": "stdout",
     "output_type": "stream",
     "text": [
      "         fixed acidity  volatile acidity  citric acid  residual sugar  \\\n",
      "quality                                                                 \n",
      "3                   10                10           10              10   \n",
      "4                   53                53           53              53   \n",
      "5                  681               681          681             681   \n",
      "6                  638               638          638             638   \n",
      "7                  199               199          199             199   \n",
      "8                   18                18           18              18   \n",
      "\n",
      "         chlorides  free sulfur dioxide  total sulfur dioxide  density   pH  \\\n",
      "quality                                                                       \n",
      "3               10                   10                    10       10   10   \n",
      "4               53                   53                    53       53   53   \n",
      "5              681                  681                   681      681  681   \n",
      "6              638                  638                   638      638  638   \n",
      "7              199                  199                   199      199  199   \n",
      "8               18                   18                    18       18   18   \n",
      "\n",
      "         sulphates  alcohol  \n",
      "quality                      \n",
      "3               10       10  \n",
      "4               53       53  \n",
      "5              681      681  \n",
      "6              638      638  \n",
      "7              199      199  \n",
      "8               18       18  \n",
      "fixed acidity           0\n",
      "volatile acidity        0\n",
      "citric acid             0\n",
      "residual sugar          0\n",
      "chlorides               0\n",
      "free sulfur dioxide     0\n",
      "total sulfur dioxide    0\n",
      "density                 0\n",
      "pH                      0\n",
      "sulphates               0\n",
      "alcohol                 0\n",
      "quality                 0\n",
      "dtype: int64\n"
     ]
    }
   ],
   "source": [
    "print(data.groupby(['quality']).count())\n",
    "print(data.isnull().sum())"
   ]
  },
  {
   "cell_type": "code",
   "execution_count": 69,
   "metadata": {
    "collapsed": true
   },
   "outputs": [],
   "source": [
    "X = data.values[:,0:11]\n",
    "Y=data.values[:,11]"
   ]
  },
  {
   "cell_type": "markdown",
   "metadata": {},
   "source": [
    "## Create linear regression object\n",
    "## Train the model using the training sets"
   ]
  },
  {
   "cell_type": "code",
   "execution_count": 70,
   "metadata": {},
   "outputs": [
    {
     "data": {
      "text/plain": [
       "LinearRegression(copy_X=True, fit_intercept=True, n_jobs=1, normalize=False)"
      ]
     },
     "execution_count": 70,
     "metadata": {},
     "output_type": "execute_result"
    }
   ],
   "source": [
    "\n",
    "linreg = LinearRegression()\n",
    "linreg.fit(X,Y)"
   ]
  },
  {
   "cell_type": "code",
   "execution_count": 71,
   "metadata": {},
   "outputs": [
    {
     "name": "stdout",
     "output_type": "stream",
     "text": [
      "[5.03285045 5.13787975 5.20989474 5.69385794 5.03285045 5.06557035\n",
      " 5.1070693  5.34370699 5.33670489 5.65840581 5.06158249]\n"
     ]
    }
   ],
   "source": [
    "print (linreg.predict(X[:11]))"
   ]
  },
  {
   "cell_type": "markdown",
   "metadata": {},
   "source": [
    "## Compute RMSE on training data\n",
    "## constuct a vector of errors"
   ]
  },
  {
   "cell_type": "code",
   "execution_count": 72,
   "metadata": {},
   "outputs": [
    {
     "name": "stdout",
     "output_type": "stream",
     "text": [
      "[0.03285045 0.13787975 0.20989474 0.30614206 0.03285045 0.06557035\n",
      " 0.1070693  1.65629301 1.66329511 0.65840581]\n"
     ]
    }
   ],
   "source": [
    "\n",
    "p = linreg.predict(X)\n",
    "err = abs(p-Y)\n",
    "print (err[:10])"
   ]
  },
  {
   "cell_type": "markdown",
   "metadata": {},
   "source": [
    "## Dot product of error vector with itself gives us the sum of squared errors\n",
    "## Compute RMSE"
   ]
  },
  {
   "cell_type": "code",
   "execution_count": 73,
   "metadata": {},
   "outputs": [
    {
     "name": "stdout",
     "output_type": "stream",
     "text": [
      "0.6455750670692045\n"
     ]
    }
   ],
   "source": [
    "total_error = np.dot(err,err)\n",
    "rmse_train = np.sqrt(total_error/len(p))\n",
    "print (rmse_train)"
   ]
  },
  {
   "cell_type": "markdown",
   "metadata": {},
   "source": [
    "## We can view the regression coefficients"
   ]
  },
  {
   "cell_type": "code",
   "execution_count": 74,
   "metadata": {},
   "outputs": [
    {
     "name": "stdout",
     "output_type": "stream",
     "text": [
      "Regression Coefficients: \n",
      " [ 2.49905527e-02 -1.08359026e+00 -1.82563948e-01  1.63312698e-02\n",
      " -1.87422516e+00  4.36133331e-03 -3.26457970e-03 -1.78811638e+01\n",
      " -4.13653144e-01  9.16334413e-01  2.76197699e-01]\n"
     ]
    }
   ],
   "source": [
    "print ('Regression Coefficients: \\n', linreg.coef_)"
   ]
  },
  {
   "cell_type": "markdown",
   "metadata": {},
   "source": [
    "## Plot outputs"
   ]
  },
  {
   "cell_type": "code",
   "execution_count": 76,
   "metadata": {},
   "outputs": [
    {
     "data": {
      "image/png": "[encoded data removed]",
      "text/plain": [
       "<matplotlib.figure.Figure at 0x1a1cd227b8>"
      ]
     },
     "metadata": {},
     "output_type": "display_data"
    }
   ],
   "source": [
    "\n",
    "%matplotlib inline\n",
    "pl.plot(p, Y,'ro')\n",
    "pl.plot([0,10],[0,10], 'g-')\n",
    "pl.xlabel('predicted')\n",
    "pl.ylabel('real')\n",
    "pl.show()"
   ]
  },
  {
   "cell_type": "code",
   "execution_count": null,
   "metadata": {
    "collapsed": true
   },
   "outputs": [],
   "source": [
    "# Now let's compute RMSE using 10-fold x-validation"
   ]
  },
  {
   "cell_type": "code",
   "execution_count": 77,
   "metadata": {
    "collapsed": true
   },
   "outputs": [],
   "source": [
    "\n",
    "kf = KFold(len(X), n_folds=10)\n",
    "xval_err = 0\n",
    "for train,test in kf:\n",
    "    linreg.fit(X[train],Y[train])\n",
    "    p = linreg.predict(X[test])\n",
    "    e = p-Y[test]\n",
    "    xval_err += np.dot(e,e)\n",
    "    \n",
    "rmse_10cv = np.sqrt(xval_err/len(X))"
   ]
  },
  {
   "cell_type": "code",
   "execution_count": 79,
   "metadata": {},
   "outputs": [
    {
     "name": "stdout",
     "output_type": "stream",
     "text": [
      "Method: Simple Linear Regression\n",
      "RMSE on training: 0.6456\n",
      "RMSE on 10-fold CV: 0.6597\n"
     ]
    }
   ],
   "source": [
    "method_name = 'Simple Linear Regression'\n",
    "print('Method: %s' %method_name)\n",
    "print('RMSE on training: %.4f' %rmse_train)\n",
    "print('RMSE on 10-fold CV: %.4f' %rmse_10cv)"
   ]
  },
  {
   "cell_type": "markdown",
   "metadata": {},
   "source": [
    "## Create linear regression object with a ridge coefficient 0.5\n",
    "## Train the model using the training set"
   ]
  },
  {
   "cell_type": "code",
   "execution_count": 81,
   "metadata": {},
   "outputs": [
    {
     "data": {
      "text/plain": [
       "Ridge(alpha=0.5, copy_X=True, fit_intercept=True, max_iter=None,\n",
       "   normalize=False, random_state=None, solver='auto', tol=0.001)"
      ]
     },
     "execution_count": 81,
     "metadata": {},
     "output_type": "execute_result"
    }
   ],
   "source": [
    "\n",
    "ridge = Ridge(fit_intercept=True, alpha=0.5)\n",
    "\n",
    "ridge.fit(X,Y)"
   ]
  },
  {
   "cell_type": "code",
   "execution_count": 84,
   "metadata": {},
   "outputs": [
    {
     "name": "stdout",
     "output_type": "stream",
     "text": [
      "Method: Ridge Regression\n",
      "RMSE on training: 0.6492\n",
      "RMSE on 10-fold CV: 0.6588\n"
     ]
    }
   ],
   "source": [
    "# Compute RMSE on training data\n",
    "# p = np.array([ridge.predict(xi) for xi in x])\n",
    "p = ridge.predict(X)\n",
    "err = p-Y\n",
    "total_error = np.dot(err,err)\n",
    "rmse_train = np.sqrt(total_error/len(p))\n",
    "\n",
    "# Compute RMSE using 10-fold x-validation\n",
    "kf = KFold(len(X), n_folds=10)\n",
    "xval_err = 0\n",
    "for train,test in kf:\n",
    "    ridge.fit(X[train],Y[train])\n",
    "    p = ridge.predict(X[test])\n",
    "    e = p-Y[test]\n",
    "    xval_err += np.dot(e,e)\n",
    "rmse_10cv = np.sqrt(xval_err/len(X))\n",
    "\n",
    "method_name = 'Ridge Regression'\n",
    "print('Method: %s' %method_name)\n",
    "print('RMSE on training: %.4f' %rmse_train)\n",
    "print('RMSE on 10-fold CV: %.4f' %rmse_10cv)"
   ]
  },
  {
   "cell_type": "code",
   "execution_count": 86,
   "metadata": {},
   "outputs": [
    {
     "name": "stdout",
     "output_type": "stream",
     "text": [
      "Ridge Regression\n",
      "alpha\t RMSE_train\t RMSE_10cv\n",
      "\n",
      "0.010\t 0.6457\t\t 0.6591\n",
      "0.418\t 0.6458\t\t 0.6588\n",
      "0.826\t 0.6460\t\t 0.6589\n",
      "1.234\t 0.6463\t\t 0.6589\n",
      "1.642\t 0.6465\t\t 0.6590\n",
      "2.050\t 0.6467\t\t 0.6591\n",
      "2.458\t 0.6470\t\t 0.6593\n",
      "2.866\t 0.6472\t\t 0.6594\n",
      "3.274\t 0.6474\t\t 0.6595\n",
      "3.682\t 0.6476\t\t 0.6596\n",
      "4.090\t 0.6478\t\t 0.6597\n",
      "4.498\t 0.6480\t\t 0.6598\n",
      "4.906\t 0.6482\t\t 0.6599\n",
      "5.313\t 0.6484\t\t 0.6600\n",
      "5.721\t 0.6486\t\t 0.6600\n",
      "6.129\t 0.6488\t\t 0.6601\n",
      "6.537\t 0.6490\t\t 0.6602\n",
      "6.945\t 0.6491\t\t 0.6603\n",
      "7.353\t 0.6493\t\t 0.6604\n",
      "7.761\t 0.6495\t\t 0.6605\n",
      "8.169\t 0.6496\t\t 0.6606\n",
      "8.577\t 0.6498\t\t 0.6607\n",
      "8.985\t 0.6500\t\t 0.6608\n",
      "9.393\t 0.6501\t\t 0.6609\n",
      "9.801\t 0.6503\t\t 0.6610\n",
      "10.209\t 0.6504\t\t 0.6611\n",
      "10.617\t 0.6506\t\t 0.6612\n",
      "11.025\t 0.6507\t\t 0.6613\n",
      "11.433\t 0.6509\t\t 0.6613\n",
      "11.841\t 0.6510\t\t 0.6614\n",
      "12.249\t 0.6512\t\t 0.6615\n",
      "12.657\t 0.6513\t\t 0.6616\n",
      "13.065\t 0.6514\t\t 0.6617\n",
      "13.473\t 0.6516\t\t 0.6618\n",
      "13.881\t 0.6517\t\t 0.6619\n",
      "14.289\t 0.6519\t\t 0.6620\n",
      "14.697\t 0.6520\t\t 0.6621\n",
      "15.104\t 0.6521\t\t 0.6622\n",
      "15.512\t 0.6523\t\t 0.6623\n",
      "15.920\t 0.6524\t\t 0.6624\n",
      "16.328\t 0.6526\t\t 0.6625\n",
      "16.736\t 0.6527\t\t 0.6626\n",
      "17.144\t 0.6528\t\t 0.6627\n",
      "17.552\t 0.6529\t\t 0.6628\n",
      "17.960\t 0.6531\t\t 0.6629\n",
      "18.368\t 0.6532\t\t 0.6630\n",
      "18.776\t 0.6533\t\t 0.6631\n",
      "19.184\t 0.6535\t\t 0.6632\n",
      "19.592\t 0.6536\t\t 0.6633\n",
      "20.000\t 0.6537\t\t 0.6634\n"
     ]
    }
   ],
   "source": [
    "print('Ridge Regression')\n",
    "print('alpha\\t RMSE_train\\t RMSE_10cv\\n')\n",
    "alpha = np.linspace(.01,20,50)\n",
    "t_rmse = np.array([])\n",
    "cv_rmse = np.array([])\n",
    "\n",
    "for a in alpha:\n",
    "    ridge = Ridge(fit_intercept=True, alpha=a)\n",
    "    \n",
    "    # computing the RMSE on training data\n",
    "    ridge.fit(X,Y)\n",
    "    p = ridge.predict(X)\n",
    "    err = p-Y\n",
    "    total_error = np.dot(err,err)\n",
    "    rmse_train = np.sqrt(total_error/len(p))\n",
    "\n",
    "    # computing RMSE using 10-fold cross validation\n",
    "    kf = KFold(len(X), n_folds=10)\n",
    "    xval_err = 0\n",
    "    for train, test in kf:\n",
    "        ridge.fit(X[train], Y[train])\n",
    "        p = ridge.predict(X[test])\n",
    "        err = p - Y[test]\n",
    "        xval_err += np.dot(err,err)\n",
    "    rmse_10cv = np.sqrt(xval_err/len(X))\n",
    "    \n",
    "    t_rmse = np.append(t_rmse, [rmse_train])\n",
    "    cv_rmse = np.append(cv_rmse, [rmse_10cv])\n",
    "    print('{:.3f}\\t {:.4f}\\t\\t {:.4f}'.format(a,rmse_train,rmse_10cv))"
   ]
  },
  {
   "cell_type": "code",
   "execution_count": 87,
   "metadata": {},
   "outputs": [
    {
     "data": {
      "image/png": "[encoded data removed]",
      "text/plain": [
       "<matplotlib.figure.Figure at 0x1a1dfc40f0>"
      ]
     },
     "metadata": {},
     "output_type": "display_data"
    }
   ],
   "source": [
    "pl.plot(alpha, t_rmse, label='RMSE-Train')\n",
    "pl.plot(alpha, cv_rmse, label='RMSE_XVal')\n",
    "pl.legend( ('RMSE-Train', 'RMSE_XVal') )\n",
    "pl.ylabel('RMSE')\n",
    "pl.xlabel('Alpha')\n",
    "pl.show()"
   ]
  },
  {
   "cell_type": "markdown",
   "metadata": {},
   "source": [
    "## COMPARING THE THREE MODEL'S RMSE AGAINST CV"
   ]
  },
  {
   "cell_type": "code",
   "execution_count": 91,
   "metadata": {},
   "outputs": [
    {
     "name": "stdout",
     "output_type": "stream",
     "text": [
      "Method: linear regression\n",
      "RMSE on training: 0.6456\n",
      "RMSE on 10-fold CV: 0.6597\n",
      "\n",
      "\n",
      "Method: lasso\n",
      "RMSE on training: 0.7609\n",
      "RMSE on 10-fold CV: 0.7707\n",
      "\n",
      "\n",
      "Method: ridge\n",
      "RMSE on training: 0.6458\n",
      "RMSE on 10-fold CV: 0.6589\n",
      "\n",
      "\n"
     ]
    }
   ],
   "source": [
    "a = 0.3\n",
    "for name,met in [\n",
    "        ('linear regression', LinearRegression()),\n",
    "        ('lasso', Lasso(fit_intercept=True, alpha=a)),\n",
    "        ('ridge', Ridge(fit_intercept=True, alpha=a))\n",
    "        ]:\n",
    "    met.fit(X,Y)\n",
    "    # p = np.array([met.predict(xi) for xi in x])\n",
    "    p = met.predict(X)\n",
    "    e = p-Y\n",
    "    total_error = np.dot(e,e)\n",
    "    rmse_train = np.sqrt(total_error/len(p))\n",
    "\n",
    "    kf = KFold(len(X), n_folds=10)\n",
    "    err = 0\n",
    "    for train,test in kf:\n",
    "        met.fit(X[train],Y[train])\n",
    "        p = met.predict(X[test])\n",
    "        e = p-Y[test]\n",
    "        err += np.dot(e,e)\n",
    "\n",
    "    rmse_10cv = np.sqrt(err/len(X))\n",
    "    print('Method: %s' %name)\n",
    "    print('RMSE on training: %.4f' %rmse_train)\n",
    "    print('RMSE on 10-fold CV: %.4f' %rmse_10cv)\n",
    "    print (\"\\n\")"
   ]
  },
  {
   "cell_type": "code",
   "execution_count": null,
   "metadata": {
    "collapsed": true
   },
   "outputs": [],
   "source": []
  }
 ],
 "metadata": {
  "kernelspec": {
   "display_name": "Python 3",
   "language": "python",
   "name": "python3"
  },
  "language_info": {
   "codemirror_mode": {
    "name": "ipython",
    "version": 3
   },
   "file_extension": ".py",
   "mimetype": "text/x-python",
   "name": "python",
   "nbconvert_exporter": "python",
   "pygments_lexer": "ipython3",
   "version": "3.6.5"
  }
 },
 "nbformat": 4,
 "nbformat_minor": 2
}

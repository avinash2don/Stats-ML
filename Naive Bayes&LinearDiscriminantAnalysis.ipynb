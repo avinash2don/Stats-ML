{
 "cells": [
  {
   "cell_type": "markdown",
   "metadata": {},
   "source": [
    "Name:Venkata Avinash Paturu\n",
    "RUID: 182003874"
   ]
  },
  {
   "cell_type": "markdown",
   "metadata": {},
   "source": [
    "# Importing Necessary Libraries"
   ]
  },
  {
   "cell_type": "code",
   "execution_count": 105,
   "metadata": {
    "collapsed": true
   },
   "outputs": [],
   "source": [
    "import pandas as pd\n",
    "from sklearn import preprocessing\n",
    "import numpy as np\n",
    "# For preprocessing the data\n",
    "from sklearn.preprocessing import Imputer\n",
    "from sklearn import preprocessing\n",
    "# To split the dataset into train and test datasets\n",
    "from sklearn.cross_validation import train_test_split\n",
    "# To calculate the accuracy score of the model\n",
    "from sklearn.metrics import accuracy_score\n",
    "#from preprocessing import LabelEncoder\n",
    "from sklearn.preprocessing import MinMaxScaler\n",
    "from sklearn.model_selection import KFold\n",
    "import matplotlib.pyplot as plt\n",
    "\n",
    "from sklearn.linear_model import LinearRegression\n",
    "\n",
    "lreg = LinearRegression()\n",
    "\n"
   ]
  },
  {
   "cell_type": "markdown",
   "metadata": {},
   "source": [
    "### Reading Data"
   ]
  },
  {
   "cell_type": "code",
   "execution_count": 106,
   "metadata": {},
   "outputs": [
    {
     "name": "stdout",
     "output_type": "stream",
     "text": [
      "  class cap-shape cap-surface cap-color bruises odor gill-attachment  \\\n",
      "0     p         x           s         n       t    p               f   \n",
      "1     e         x           s         y       t    a               f   \n",
      "2     e         b           s         w       t    l               f   \n",
      "3     p         x           y         w       t    p               f   \n",
      "4     e         x           s         g       f    n               f   \n",
      "\n",
      "  gill-spacing gill-size gill-color   ...   stalk-surface-below-ring  \\\n",
      "0            c         n          k   ...                          s   \n",
      "1            c         b          k   ...                          s   \n",
      "2            c         b          n   ...                          s   \n",
      "3            c         n          n   ...                          s   \n",
      "4            w         b          k   ...                          s   \n",
      "\n",
      "  stalk-color-above-ring stalk-color-below-ring veil-type veil-color  \\\n",
      "0                      w                      w         p          w   \n",
      "1                      w                      w         p          w   \n",
      "2                      w                      w         p          w   \n",
      "3                      w                      w         p          w   \n",
      "4                      w                      w         p          w   \n",
      "\n",
      "  ring-number ring-type spore-print-color population habitat  \n",
      "0           o         p                 k          s       u  \n",
      "1           o         p                 n          n       g  \n",
      "2           o         p                 n          n       m  \n",
      "3           o         p                 k          s       u  \n",
      "4           o         e                 n          a       g  \n",
      "\n",
      "[5 rows x 23 columns]\n"
     ]
    }
   ],
   "source": [
    "data=pd.read_csv('mushrooms.csv')\n",
    "print(data.head())"
   ]
  },
  {
   "cell_type": "markdown",
   "metadata": {},
   "source": [
    "### Checking for NA's in values\n",
    "if there are none move on if there are NA's replace with mode of the column"
   ]
  },
  {
   "cell_type": "code",
   "execution_count": 107,
   "metadata": {},
   "outputs": [
    {
     "name": "stdout",
     "output_type": "stream",
     "text": [
      "       cap-shape  cap-surface  cap-color  bruises  odor  gill-attachment  \\\n",
      "class                                                                      \n",
      "e           4208         4208       4208     4208  4208             4208   \n",
      "p           3916         3916       3916     3916  3916             3916   \n",
      "\n",
      "       gill-spacing  gill-size  gill-color  stalk-shape   ...     \\\n",
      "class                                                     ...      \n",
      "e              4208       4208        4208         4208   ...      \n",
      "p              3916       3916        3916         3916   ...      \n",
      "\n",
      "       stalk-surface-below-ring  stalk-color-above-ring  \\\n",
      "class                                                     \n",
      "e                          4208                    4208   \n",
      "p                          3916                    3916   \n",
      "\n",
      "       stalk-color-below-ring  veil-type  veil-color  ring-number  ring-type  \\\n",
      "class                                                                          \n",
      "e                        4208       4208        4208         4208       4208   \n",
      "p                        3916       3916        3916         3916       3916   \n",
      "\n",
      "       spore-print-color  population  habitat  \n",
      "class                                          \n",
      "e                   4208        4208     4208  \n",
      "p                   3916        3916     3916  \n",
      "\n",
      "[2 rows x 22 columns]\n",
      "class                       0\n",
      "cap-shape                   0\n",
      "cap-surface                 0\n",
      "cap-color                   0\n",
      "bruises                     0\n",
      "odor                        0\n",
      "gill-attachment             0\n",
      "gill-spacing                0\n",
      "gill-size                   0\n",
      "gill-color                  0\n",
      "stalk-shape                 0\n",
      "stalk-root                  0\n",
      "stalk-surface-above-ring    0\n",
      "stalk-surface-below-ring    0\n",
      "stalk-color-above-ring      0\n",
      "stalk-color-below-ring      0\n",
      "veil-type                   0\n",
      "veil-color                  0\n",
      "ring-number                 0\n",
      "ring-type                   0\n",
      "spore-print-color           0\n",
      "population                  0\n",
      "habitat                     0\n",
      "dtype: int64\n"
     ]
    }
   ],
   "source": [
    "print(data.groupby(['class']).count())\n",
    "print(data.isnull().sum())"
   ]
  },
  {
   "cell_type": "markdown",
   "metadata": {},
   "source": [
    "Preprocessing data to convert caterogical attributes to numerical attributes\n",
    "using minmax scaler for relative normalization\n",
    "Althought The scaling dosent effect much for graphic model's like NB and LDA its still good to use scaling"
   ]
  },
  {
   "cell_type": "code",
   "execution_count": 108,
   "metadata": {},
   "outputs": [
    {
     "name": "stdout",
     "output_type": "stream",
     "text": [
      "   class  cap-shape  cap-surface  cap-color  bruises  odor  gill-attachment  \\\n",
      "0      1          5            2          4        1     6                1   \n",
      "1      0          5            2          9        1     0                1   \n",
      "2      0          0            2          8        1     3                1   \n",
      "3      1          5            3          8        1     6                1   \n",
      "4      0          5            2          3        0     5                1   \n",
      "\n",
      "   gill-spacing  gill-size  gill-color   ...     stalk-surface-below-ring  \\\n",
      "0             0          1           4   ...                            2   \n",
      "1             0          0           4   ...                            2   \n",
      "2             0          0           5   ...                            2   \n",
      "3             0          1           5   ...                            2   \n",
      "4             1          0           4   ...                            2   \n",
      "\n",
      "   stalk-color-above-ring  stalk-color-below-ring  veil-type  veil-color  \\\n",
      "0                       7                       7          0           2   \n",
      "1                       7                       7          0           2   \n",
      "2                       7                       7          0           2   \n",
      "3                       7                       7          0           2   \n",
      "4                       7                       7          0           2   \n",
      "\n",
      "   ring-number  ring-type  spore-print-color  population  habitat  \n",
      "0            1          4                  2           3        5  \n",
      "1            1          4                  3           2        1  \n",
      "2            1          4                  3           2        3  \n",
      "3            1          4                  2           3        5  \n",
      "4            1          0                  3           0        1  \n",
      "\n",
      "[5 rows x 23 columns]\n",
      "   class  cap-shape  cap-surface  cap-color  bruises  odor  gill-attachment  \\\n",
      "0      1          1            0          0        1     0                1   \n",
      "1      0          1            0          1        1     0                1   \n",
      "2      0          0            0          0        1     0                1   \n",
      "3      1          1            1          0        1     0                1   \n",
      "4      0          1            0          0        0     0                1   \n",
      "\n",
      "   gill-spacing  gill-size  gill-color   ...     stalk-surface-below-ring  \\\n",
      "0             0          1           0   ...                            0   \n",
      "1             0          0           0   ...                            0   \n",
      "2             0          0           0   ...                            0   \n",
      "3             0          1           0   ...                            0   \n",
      "4             1          0           0   ...                            0   \n",
      "\n",
      "   stalk-color-above-ring  stalk-color-below-ring  veil-type  veil-color  \\\n",
      "0                       0                       0          0           0   \n",
      "1                       0                       0          0           0   \n",
      "2                       0                       0          0           0   \n",
      "3                       0                       0          0           0   \n",
      "4                       0                       0          0           0   \n",
      "\n",
      "   ring-number  ring-type  spore-print-color  population  habitat  \n",
      "0            0          1                  0           0        0  \n",
      "1            0          1                  0           0        0  \n",
      "2            0          1                  0           0        0  \n",
      "3            0          1                  0           0        0  \n",
      "4            0          0                  0           0        0  \n",
      "\n",
      "[5 rows x 23 columns]\n"
     ]
    },
    {
     "name": "stderr",
     "output_type": "stream",
     "text": [
      "/Users/avinash2don/anaconda3/lib/python3.6/site-packages/sklearn/utils/validation.py:475: DataConversionWarning: Data with input dtype int64 was converted to float64 by MinMaxScaler.\n",
      "  warnings.warn(msg, DataConversionWarning)\n"
     ]
    }
   ],
   "source": [
    "data = data.apply(preprocessing.LabelEncoder().fit_transform)\n",
    "print(data.head())\n",
    "data.values[:,1:]=MinMaxScaler().fit_transform(data.values[:,1:])\n",
    "print(data.head())"
   ]
  },
  {
   "cell_type": "markdown",
   "metadata": {},
   "source": [
    "### Loop to classify the data with two classifiers based on same test and train split generated ny Kfold"
   ]
  },
  {
   "cell_type": "code",
   "execution_count": 109,
   "metadata": {},
   "outputs": [
    {
     "name": "stderr",
     "output_type": "stream",
     "text": [
      "/Users/avinash2don/anaconda3/lib/python3.6/site-packages/sklearn/discriminant_analysis.py:388: UserWarning: Variables are collinear.\n",
      "  warnings.warn(\"Variables are collinear.\")\n"
     ]
    }
   ],
   "source": [
    "NB = GaussianNB()\n",
    "LDA = LinearDiscriminantAnalysis()\n",
    "\n",
    "\n",
    "\n",
    "NBdic={}\n",
    "LDAdic={}\n",
    "for i in range(6,31):\n",
    "    kf = KFold(n_splits=i,random_state=9)\n",
    "    sumNB = 0\n",
    "    sumLDA = 0\n",
    "    for train, test in kf.split(data):\n",
    "        train_data = np.array(data)[train]\n",
    "        test_data = np.array(data)[test]\n",
    "        features_train= train_data[:,1:]\n",
    "        target_train= train_data[:,0]\n",
    "        features_test= test_data[:,1:]\n",
    "        target_test= test_data[:,0]\n",
    "        NB.fit(features_train, target_train)\n",
    "        target_predNB = NB.predict(features_test)\n",
    "        sumNB += accuracy_score(target_test, target_predNB, normalize = True)\n",
    "        LDA.fit(features_train, target_train)\n",
    "        target_predLDA = LDA.predict(features_test)\n",
    "        sumLDA += accuracy_score(target_test, target_predLDA, normalize = True)\n",
    "    averageNB = sumNB/i\n",
    "    averageLDA = sumLDA/i\n",
    "    NBdic.update({i:averageNB})\n",
    "    LDAdic.update({i:averageLDA})\n",
    "    "
   ]
  },
  {
   "cell_type": "code",
   "execution_count": 110,
   "metadata": {},
   "outputs": [
    {
     "data": {
      "image/png": "[encoded data removed]",
      "text/plain": [
       "<matplotlib.figure.Figure at 0x1a251eb438>"
      ]
     },
     "metadata": {},
     "output_type": "display_data"
    }
   ],
   "source": [
    "listsNB = sorted(NBdic.items()) # sorted by key, return a list of tuples\n",
    "listsLDA = sorted(LDAdic.items()) # sorted by key, return a list of tuples\n",
    "\n",
    "x, y = zip(*listsNB) # unpack a list of pairs into two tuples\n",
    "x1, y1 = zip(*listsLDA)\n",
    "\n",
    "plt.plot(x, y,'r')\n",
    "plt.plot(x1, y1,'b')\n",
    "plt.xlabel('#Kfolds', fontsize=18)\n",
    "plt.ylabel('Accuracy', fontsize=16)\n",
    "plt.show()\n"
   ]
  },
  {
   "cell_type": "markdown",
   "metadata": {},
   "source": [
    "LDA is most usefull on continuous variables where as NB is useful for categorical variables, as i used scaling LDA considered the minor nuances in the attributes and gave me good accuracy compared to NB classifier. On other hand due increased size of training set helped both the models perform better with increased Kfolds."
   ]
  },
  {
   "cell_type": "code",
   "execution_count": null,
   "metadata": {
    "collapsed": true
   },
   "outputs": [],
   "source": []
  }
 ],
 "metadata": {
  "kernelspec": {
   "display_name": "Python 3",
   "language": "python",
   "name": "python3"
  },
  "language_info": {
   "codemirror_mode": {
    "name": "ipython",
    "version": 3
   },
   "file_extension": ".py",
   "mimetype": "text/x-python",
   "name": "python",
   "nbconvert_exporter": "python",
   "pygments_lexer": "ipython3",
   "version": "3.6.5"
  }
 },
 "nbformat": 4,
 "nbformat_minor": 2
}
